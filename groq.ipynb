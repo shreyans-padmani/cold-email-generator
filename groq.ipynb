{
 "cells": [
  {
   "cell_type": "code",
   "execution_count": 5,
   "id": "17c9ab4d",
   "metadata": {},
   "outputs": [
    {
     "data": {
      "text/plain": [
       "True"
      ]
     },
     "execution_count": 5,
     "metadata": {},
     "output_type": "execute_result"
    }
   ],
   "source": [
    "import os\n",
    "from dotenv import load_dotenv\n",
    "\n",
    "# Load environment variables from .env file\n",
    "load_dotenv()\n"
   ]
  },
  {
   "cell_type": "code",
   "execution_count": 7,
   "id": "74c56ecc",
   "metadata": {},
   "outputs": [
    {
     "name": "stdout",
     "output_type": "stream",
     "text": [
      "content=\"Gujarat is a state in western India, and it has several cities. Here are some of the major cities in Gujarat:\\n\\n1. Ahmedabad (the largest city and former capital of Gujarat)\\n2. Surat (second-largest city and a major commercial hub)\\n3. Vadodara (also known as Baroda, a cultural and educational hub)\\n4. Rajkot (a major city in Saurashtra region)\\n5. Bhavnagar (a port city in Saurashtra region)\\n6. Jamnagar (a major city in Saurashtra region)\\n7. Gandhinagar (the current capital of Gujarat)\\n8. Junagadh (a historic city in Saurashtra region)\\n9. Morbi (a city known for its ceramic industry)\\n10. Mehsana (a city in North Gujarat region)\\n11. Anand (a city known for its dairy industry)\\n12. Nadiad (a city in North Gujarat region)\\n13. Navsari (a city in South Gujarat region)\\n14. Valsad (a city in South Gujarat region)\\n15. Porbandar (a coastal city in Saurashtra region)\\n\\nAccording to the Gujarat government's data, there are 33 districts in Gujarat, and each district has its own administrative headquarters, which can be considered as a city. However, the above list includes some of the major cities in Gujarat.\\n\\nHere's a rough estimate of the number of cities in Gujarat:\\n\\n- Major cities (population over 1 million): 10-12\\n- Medium cities (population between 100,000 and 1 million): 20-25\\n- Small cities (population below 100,000): 50-60\\n\\nTotal estimated number of cities in Gujarat: 80-97\\n\\nPlease note that the exact number of cities in Gujarat may vary depending on the source and criteria used to define a city.\" additional_kwargs={} response_metadata={'token_usage': {'completion_tokens': 386, 'prompt_tokens': 44, 'total_tokens': 430, 'completion_time': 0.648004405, 'prompt_time': 0.002500918, 'queue_time': 0.052256587, 'total_time': 0.650505323}, 'model_name': 'llama-3.1-8b-instant', 'system_fingerprint': 'fp_510c177af0', 'finish_reason': 'stop', 'logprobs': None} id='run--39ffe4b5-4077-48c5-b901-49a4b7e5a42a-0' usage_metadata={'input_tokens': 44, 'output_tokens': 386, 'total_tokens': 430}\n"
     ]
    }
   ],
   "source": [
    "from langchain_groq import ChatGroq\n",
    "groq_key = os.getenv(\"API_KEY\")\n",
    "llm = ChatGroq(\n",
    "    model=\"llama-3.1-8b-instant\",\n",
    "    temperature=0,\n",
    "    groq_api_key=groq_key\n",
    "    # other params...\n",
    ")\n",
    "response = llm.invoke(\"gujrat state have how many city?\")\n",
    "print(response)"
   ]
  },
  {
   "cell_type": "code",
   "execution_count": null,
   "id": "cc28b214",
   "metadata": {},
   "outputs": [
    {
     "name": "stdout",
     "output_type": "stream",
     "text": [
      "Requirement already satisfied: python-dotenv in c:\\users\\baps\\anaconda3\\lib\\site-packages (0.21.0)\n"
     ]
    }
   ],
   "source": [
    "\n"
   ]
  }
 ],
 "metadata": {
  "kernelspec": {
   "display_name": "base",
   "language": "python",
   "name": "python3"
  },
  "language_info": {
   "codemirror_mode": {
    "name": "ipython",
    "version": 3
   },
   "file_extension": ".py",
   "mimetype": "text/x-python",
   "name": "python",
   "nbconvert_exporter": "python",
   "pygments_lexer": "ipython3",
   "version": "3.12.7"
  }
 },
 "nbformat": 4,
 "nbformat_minor": 5
}
